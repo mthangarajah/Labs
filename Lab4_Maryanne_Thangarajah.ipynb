{
 "cells": [
  {
   "cell_type": "markdown",
   "metadata": {},
   "source": [
    "## Lab 4\n",
    "\n",
    "By: Maryanne Thangarajah\n",
    "\n",
    "Link to Github repository: https://github.com/mthangarajah/Labs.git"
   ]
  },
  {
   "cell_type": "code",
   "execution_count": 40,
   "metadata": {},
   "outputs": [],
   "source": [
    "#Load packages needed\n",
    "import pandas as pd\n",
    "import seaborn as sns\n",
    "import matplotlib.pyplot as plt\n",
    "\n",
    "# To remove warnings \n",
    "import warnings\n",
    "warnings.filterwarnings('ignore')"
   ]
  },
  {
   "cell_type": "markdown",
   "metadata": {},
   "source": [
    "### Question 1:\n",
    "\n",
    "Read in the file 'listings' that contains the listings for the Boston AirBnBs. How many entries are in the file? How many unique identifiers are there for AirBnB listings? \n",
    "\n",
    "Hint: https://pandas.pydata.org/pandasdocs/stable/reference/api/pandas.DataFrame.nunique.html"
   ]
  },
  {
   "cell_type": "code",
   "execution_count": 41,
   "metadata": {},
   "outputs": [
    {
     "name": "stdout",
     "output_type": "stream",
     "text": [
      "There are 6264 entries in the listing file.\n"
     ]
    }
   ],
   "source": [
    "#Load the listing data\n",
    "listing = pd.read_csv('listings.csv')\n",
    "\n",
    "#Number of entries\n",
    "q1 = listing.shape[0]\n",
    "\n",
    "#Print statement for the number of entries in the listing file\n",
    "print(\"There are {0} entries in the listing file.\".format(q1))"
   ]
  },
  {
   "cell_type": "code",
   "execution_count": 42,
   "metadata": {},
   "outputs": [
    {
     "name": "stdout",
     "output_type": "stream",
     "text": [
      "There are 6264 unique entries in the listing file.\n"
     ]
    }
   ],
   "source": [
    "#Number of unique identifiers\n",
    "q1_unique = listing[\"id\"].nunique()\n",
    "\n",
    "#Print statement for the unique number of entries in the listing file\n",
    "print(\"There are {0} unique entries in the listing file.\".format(q1_unique))"
   ]
  },
  {
   "cell_type": "markdown",
   "metadata": {},
   "source": [
    "### Question 2: \n",
    "\n",
    "Read in the 'reviews' file that contains the date of reviews for the Boston AirBnB listings. How many entries are in the file? How many unique identifiers are there for AirBnB listings? Do all of the listings have a corresponding review?"
   ]
  },
  {
   "cell_type": "code",
   "execution_count": 43,
   "metadata": {},
   "outputs": [
    {
     "name": "stdout",
     "output_type": "stream",
     "text": [
      "There are 225880 entries in the review file.\n"
     ]
    }
   ],
   "source": [
    "#Load the reviews file\n",
    "reviews = pd.read_csv('reviews.csv')\n",
    "\n",
    "#Number of entries\n",
    "q2 = reviews.shape[0]\n",
    "\n",
    "#Print statement for the number of entries in review file\n",
    "print(\"There are {0} entries in the review file.\".format(q2))"
   ]
  },
  {
   "cell_type": "code",
   "execution_count": 44,
   "metadata": {},
   "outputs": [
    {
     "name": "stdout",
     "output_type": "stream",
     "text": [
      "There are 5088 unique entries in the review file.\n"
     ]
    }
   ],
   "source": [
    "#Number of unique entries in review file\n",
    "q2_unique = reviews[\"listing_id\"].nunique()\n",
    "\n",
    "#Print statement for the number of unique entries in the review file\n",
    "print(\"There are {0} unique entries in the review file.\".format(q2_unique))"
   ]
  },
  {
   "cell_type": "markdown",
   "metadata": {},
   "source": [
    "All the listings do not have a corresponding review. There are 6264 listings compared to 5088 unique entries in the review file. Therefore, there are 1176 listings without a review."
   ]
  },
  {
   "cell_type": "markdown",
   "metadata": {},
   "source": [
    "### Question 3\n",
    "\n",
    "Merge the review and listing files. Do a merge using the function 'pd.merge' so that all of the entries from listing are in the merged data frame and have an NaN if there is no corresponding entry in reviews. How many rows do you now have? How many unique AirBnB ids do you have? How many rows were filled in with NaN?"
   ]
  },
  {
   "cell_type": "code",
   "execution_count": 45,
   "metadata": {},
   "outputs": [
    {
     "name": "stdout",
     "output_type": "stream",
     "text": [
      "The number of entries in the merged file is 227056.\n"
     ]
    }
   ],
   "source": [
    "# Merge the review and listing file on the ID using outer merge\n",
    "question3_merge = pd.merge(reviews, listing, left_on = \"listing_id\", \n",
    "                           right_on = \"id\", how = \"outer\")\n",
    "\n",
    "#Number of entries using shape\n",
    "q3_entries = question3_merge.shape[0]\n",
    "\n",
    "#Print Statement for number of entries in the merged file\n",
    "print(\"The number of entries in the merged file is {0}.\".format(q3_entries))"
   ]
  },
  {
   "cell_type": "code",
   "execution_count": 46,
   "metadata": {},
   "outputs": [
    {
     "name": "stdout",
     "output_type": "stream",
     "text": [
      "The number of unique entries in the merged file is 6264.\n"
     ]
    }
   ],
   "source": [
    "#Number of unique entries\n",
    "q3_unique = question3_merge[\"id\"].nunique()\n",
    "\n",
    "#Print statement for unique number of entries in the merged files\n",
    "print(\"The number of unique entries in the merged file is {0}.\".format(q3_unique))"
   ]
  },
  {
   "cell_type": "code",
   "execution_count": 47,
   "metadata": {},
   "outputs": [
    {
     "name": "stdout",
     "output_type": "stream",
     "text": [
      "The number of entries filled with NaN in the merged file is 1176.\n"
     ]
    }
   ],
   "source": [
    "#Number of NaN in the merged file\n",
    "q3_na = question3_merge[\"listing_id\"].isna().sum()\n",
    "\n",
    "#Print statement for the number of NaN in the merged file\n",
    "print(\"The number of entries filled with NaN in the merged file is {0}.\".format(q3_na))"
   ]
  },
  {
   "cell_type": "markdown",
   "metadata": {},
   "source": [
    "### Question 4:\n",
    "\n",
    "Merge the review and listing files again using 'pd.merge'. This time do a merge so that all of the entries from reviews are in the dataframe (and therefore any entries from listings that do not have a review are dropped). How many rows do you now have? How many unique AirBnB ids do you have?"
   ]
  },
  {
   "cell_type": "code",
   "execution_count": 48,
   "metadata": {},
   "outputs": [
    {
     "name": "stdout",
     "output_type": "stream",
     "text": [
      "The number of entries in the merged file using left merge is 225880.\n"
     ]
    }
   ],
   "source": [
    "# Merge the review and listing file using left merge\n",
    "question4_merge = pd.merge(reviews, listing, left_on = \"listing_id\", \n",
    "                           right_on = \"id\", how = \"left\")\n",
    "\n",
    "#Number of entries using shape\n",
    "q4_count = question4_merge.shape[0]\n",
    "\n",
    "#Print statement for number of entries in merged file\n",
    "print(\"The number of entries in the merged file using left merge is {0}.\".format(q4_count))"
   ]
  },
  {
   "cell_type": "code",
   "execution_count": 49,
   "metadata": {},
   "outputs": [
    {
     "name": "stdout",
     "output_type": "stream",
     "text": [
      "The number of unique AirBnB ids in the merged file using left merge is 5088.\n"
     ]
    }
   ],
   "source": [
    "# Number of unique AirBnB ids in the left merged file \n",
    "q4_unique = question4_merge[\"listing_id\"].nunique()\n",
    "\n",
    "#Print statement for the unique AirBnB ids in the merged file\n",
    "print(\"The number of unique AirBnB ids in the merged file using left merge is {0}.\".format(q4_unique))"
   ]
  },
  {
   "cell_type": "markdown",
   "metadata": {},
   "source": [
    "### Question 5\n",
    "Accoring to AirBnB superhosts 'are experienced hosts who provide a shining example for other hosts, and extraordinary experiences for their guests'. How many unique AirBnBs are hosted by a 'superhost' in Boston? How many superhosts are there in Boston? How many super hosts do not have any reviews in the 'reviews' dataset? What is the median number of reviews that a superhost has in the 'reviews' dataset?"
   ]
  },
  {
   "cell_type": "code",
   "execution_count": 50,
   "metadata": {},
   "outputs": [
    {
     "name": "stdout",
     "output_type": "stream",
     "text": [
      "There are 1448 unique AirBnBs that are hosted by a superhost in Boston.\n"
     ]
    }
   ],
   "source": [
    "#Number of Unique AirBnBs by dropping duplicates\n",
    "super_host = listing.drop_duplicates(subset =\"id\")\n",
    "\n",
    "#Find all superhosts from unique AirBnBs above\n",
    "is_super_host = super_host[super_host[\"host_is_superhost\"]== \"t\"] \n",
    "\n",
    "#Number of superhosts in Boston through count\n",
    "q5count = is_super_host[\"host_is_superhost\"].count()\n",
    "\n",
    "#Print statement for number of superhosts in Boston\n",
    "print(\"There are {0} unique AirBnBs that are hosted by a superhost in Boston.\".format(q5count))"
   ]
  },
  {
   "cell_type": "code",
   "execution_count": 51,
   "metadata": {},
   "outputs": [
    {
     "name": "stdout",
     "output_type": "stream",
     "text": [
      "There are 757 superhosts in Boston.\n"
     ]
    }
   ],
   "source": [
    "#Number of Unique hosts in Boston by dropping duplicates\n",
    "super_host_unique = listing.drop_duplicates(subset =\"host_id\")\n",
    "\n",
    "#Find all superhosts from unique ids above \n",
    "is_super_host_unique = super_host_unique[super_host_unique\n",
    "                                         [\"host_is_superhost\"]== \"t\"] \n",
    "\n",
    "#Number of unqiue superhosts in Boston through count\n",
    "q5_unique = is_super_host_unique[\"host_is_superhost\"].count()\n",
    "\n",
    "#Print statement for number of unqiue superhosts in Boston\n",
    "print(\"There are {0} superhosts in Boston.\".format(q5_unique))"
   ]
  },
  {
   "cell_type": "code",
   "execution_count": 52,
   "metadata": {},
   "outputs": [
    {
     "name": "stdout",
     "output_type": "stream",
     "text": [
      "There are 70 superhosts without a review.\n"
     ]
    }
   ],
   "source": [
    "#Number of Superhosts using merged dataframe from question 3\n",
    "superhost = question3_merge[question3_merge\n",
    "                                         [\"host_is_superhost\"]== \"t\"]\n",
    "\n",
    "#Number of superhosts without a review using isna() and sum()\n",
    "without_reviews = superhost[\"listing_id\"].isna().sum()\n",
    "\n",
    "#Print statement for number of superhosts without a review\n",
    "print(\"There are {0} superhosts without a review.\".format(without_reviews))"
   ]
  },
  {
   "cell_type": "code",
   "execution_count": 53,
   "metadata": {},
   "outputs": [
    {
     "name": "stdout",
     "output_type": "stream",
     "text": [
      "The median number of reviews for a superhost is 72.0\n"
     ]
    }
   ],
   "source": [
    "#Median number of reviews for superhosts by grouping by host id through listing id\n",
    "#Then,count the number of reviews after grouping and find the median\n",
    "superhost_median = superhost.groupby(\"host_id\")[\"listing_id\"].agg('count').median()\n",
    "\n",
    "#Print statement for the median number of reviews for superhosts\n",
    "print(\"The median number of reviews for a superhost is {0}\".format(superhost_median))"
   ]
  },
  {
   "cell_type": "markdown",
   "metadata": {},
   "source": [
    "### Question 6:\n",
    "Make boxplots to compare the number of reviews of superhosts to non-superhosts. Hint: the boxplots may look better if you log the counts! Add 1 to the number of counts so that you can log values of 0."
   ]
  },
  {
   "cell_type": "code",
   "execution_count": 54,
   "metadata": {},
   "outputs": [],
   "source": [
    "#Create a new dataframe using 3 columns from the merged file from question 3\n",
    "number_reviews = question3_merge[[\"host_id\",\"listing_id\",\"host_is_superhost\"]]\n",
    "\n",
    "#Create a new column count by grouping by the host id and count the number of listing id for each host id\n",
    "number_reviews[\"count\"] =  number_reviews.groupby([\"host_id\"])[\"listing_id\"].transform(\"count\")\n",
    "\n",
    "# Drop the duplicate copies of the host id in the dataframe\n",
    "number_reviews = number_reviews.drop_duplicates(\"host_id\")\n",
    "\n",
    "# Create a new column count1 to add 1 to each value in using the count column\n",
    "number_reviews[\"count1\"] = number_reviews[\"count\"] + 1\n",
    "\n",
    "# Create a new column log_count to get the log count from the count1 column\n",
    "number_reviews[\"log_count\"] = np.log(number_reviews[\"count1\"]) "
   ]
  },
  {
   "cell_type": "code",
   "execution_count": 55,
   "metadata": {},
   "outputs": [
    {
     "data": {
      "image/png": "[encoded data removed]",
      "text/plain": [
       "<Figure size 432x288 with 1 Axes>"
      ]
     },
     "metadata": {
      "needs_background": "light"
     },
     "output_type": "display_data"
    }
   ],
   "source": [
    "#Create a boxplot using the data from number_reviews, \n",
    "# where x is host_is_superhost and y is log count\n",
    "sns.boxplot(y='log_count',x = \"host_is_superhost\", \n",
    "                 data=number_reviews)\n",
    "\n",
    "#The x-axis label\n",
    "plt.xlabel(\"Host is superhost\")\n",
    "\n",
    "#The y-axis label\n",
    "plt.ylabel(\"Log(count + 1)\")\n",
    "\n",
    "#The title of the plot\n",
    "plt.title(\"Boxplots of number of reviews for superhost and non-superhosts\")\n",
    "\n",
    "#Show the plot\n",
    "plt.show()"
   ]
  }
 ],
 "metadata": {
  "kernelspec": {
   "display_name": "Python 3",
   "language": "python",
   "name": "python3"
  },
  "language_info": {
   "codemirror_mode": {
    "name": "ipython",
    "version": 3
   },
   "file_extension": ".py",
   "mimetype": "text/x-python",
   "name": "python",
   "nbconvert_exporter": "python",
   "pygments_lexer": "ipython3",
   "version": "3.7.4"
  }
 },
 "nbformat": 4,
 "nbformat_minor": 2
}
