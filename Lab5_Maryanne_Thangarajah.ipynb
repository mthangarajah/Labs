{
 "cells": [
  {
   "cell_type": "markdown",
   "metadata": {},
   "source": [
    "# Lab 5\n",
    "\n",
    "Date: December 7, 2020\n",
    "\n",
    "Link to Github repository: https://github.com/mthangarajah/Labs.git"
   ]
  },
  {
   "cell_type": "code",
   "execution_count": 2,
   "metadata": {},
   "outputs": [],
   "source": [
    "#Load the packages \n",
    "from sklearn.datasets.samples_generator import make_blobs\n",
    "from sklearn.preprocessing import StandardScaler\n",
    "from sklearn.cluster import KMeans\n",
    "import scipy.cluster.hierarchy as shc\n",
    "import pandas as pd\n",
    "import matplotlib.pyplot as plt"
   ]
  },
  {
   "cell_type": "markdown",
   "metadata": {},
   "source": [
    "## Question 1:"
   ]
  },
  {
   "cell_type": "markdown",
   "metadata": {},
   "source": [
    "### a) Generate a simulated data set with 20 observations in each of three classes (i.e. 60 observations total), and 50 variables."
   ]
  },
  {
   "cell_type": "code",
   "execution_count": 18,
   "metadata": {},
   "outputs": [],
   "source": [
    "#Simulated data using make_blobs with 60 observations, 50 variables and 3 classes for each 20 observation\n",
    "X,y_true = make_blobs(n_samples = 60, n_features = 50,centers = 3, cluster_std = 14)"
   ]
  },
  {
   "cell_type": "markdown",
   "metadata": {},
   "source": [
    "### b) Perform K-means clustering of the observations with K = 3. How well do the clusters that you obtained in K-means clustering compare to the true class labels (Hint: use pd.crosstab to make a contingency table of the results)?"
   ]
  },
  {
   "cell_type": "code",
   "execution_count": 19,
   "metadata": {},
   "outputs": [
    {
     "data": {
      "text/html": [
       "<div>\n",
       "<style scoped>\n",
       "    .dataframe tbody tr th:only-of-type {\n",
       "        vertical-align: middle;\n",
       "    }\n",
       "\n",
       "    .dataframe tbody tr th {\n",
       "        vertical-align: top;\n",
       "    }\n",
       "\n",
       "    .dataframe thead th {\n",
       "        text-align: right;\n",
       "    }\n",
       "</style>\n",
       "<table border=\"1\" class=\"dataframe\">\n",
       "  <thead>\n",
       "    <tr style=\"text-align: right;\">\n",
       "      <th>Clusters</th>\n",
       "      <th>0</th>\n",
       "      <th>1</th>\n",
       "      <th>2</th>\n",
       "    </tr>\n",
       "    <tr>\n",
       "      <th>Class Labels</th>\n",
       "      <th></th>\n",
       "      <th></th>\n",
       "      <th></th>\n",
       "    </tr>\n",
       "  </thead>\n",
       "  <tbody>\n",
       "    <tr>\n",
       "      <th>0</th>\n",
       "      <td>0</td>\n",
       "      <td>0</td>\n",
       "      <td>20</td>\n",
       "    </tr>\n",
       "    <tr>\n",
       "      <th>1</th>\n",
       "      <td>1</td>\n",
       "      <td>18</td>\n",
       "      <td>1</td>\n",
       "    </tr>\n",
       "    <tr>\n",
       "      <th>2</th>\n",
       "      <td>16</td>\n",
       "      <td>2</td>\n",
       "      <td>2</td>\n",
       "    </tr>\n",
       "  </tbody>\n",
       "</table>\n",
       "</div>"
      ],
      "text/plain": [
       "Clusters       0   1   2\n",
       "Class Labels            \n",
       "0              0   0  20\n",
       "1              1  18   1\n",
       "2             16   2   2"
      ]
     },
     "execution_count": 19,
     "metadata": {},
     "output_type": "execute_result"
    }
   ],
   "source": [
    "# Create variable kmeans3 for k-means clustering with k=3\n",
    "kmeans3 = KMeans(n_clusters = 3)\n",
    "\n",
    "#Fit the k-means3 above onto the array\n",
    "kmeans3.fit(X)\n",
    "\n",
    "#Create new variable to predict the y values from the fitted kmeans3 from above\n",
    "y_kmeans3 = kmeans3.predict(X)\n",
    "\n",
    "#Create contigency table of results using crosstab of the true y values and the predicted y values\n",
    "pd.crosstab(y_true, y_kmeans3, rownames = [\"Class Labels\"], colnames = [\"Clusters\"])"
   ]
  },
  {
   "cell_type": "markdown",
   "metadata": {},
   "source": [
    "Class 0 variables are all in cluster 2. Class 1 variables are mainly in cluster 1, with one in cluster 0. Class 2 is mainly in cluster 0, with a couple in cluster 1 and cluster 2. Therefore, the clusters obtained through k-means clustering did not properly place all the variables in the same cluster. Some variables were correctly place together, like the variables with a class label of 0. "
   ]
  },
  {
   "cell_type": "markdown",
   "metadata": {},
   "source": [
    "### c) Perform K-means clustering with K = 2. Describe your results."
   ]
  },
  {
   "cell_type": "code",
   "execution_count": 20,
   "metadata": {},
   "outputs": [
    {
     "data": {
      "text/html": [
       "<div>\n",
       "<style scoped>\n",
       "    .dataframe tbody tr th:only-of-type {\n",
       "        vertical-align: middle;\n",
       "    }\n",
       "\n",
       "    .dataframe tbody tr th {\n",
       "        vertical-align: top;\n",
       "    }\n",
       "\n",
       "    .dataframe thead th {\n",
       "        text-align: right;\n",
       "    }\n",
       "</style>\n",
       "<table border=\"1\" class=\"dataframe\">\n",
       "  <thead>\n",
       "    <tr style=\"text-align: right;\">\n",
       "      <th>Clusters</th>\n",
       "      <th>0</th>\n",
       "      <th>1</th>\n",
       "    </tr>\n",
       "    <tr>\n",
       "      <th>Class Labels</th>\n",
       "      <th></th>\n",
       "      <th></th>\n",
       "    </tr>\n",
       "  </thead>\n",
       "  <tbody>\n",
       "    <tr>\n",
       "      <th>0</th>\n",
       "      <td>12</td>\n",
       "      <td>8</td>\n",
       "    </tr>\n",
       "    <tr>\n",
       "      <th>1</th>\n",
       "      <td>19</td>\n",
       "      <td>1</td>\n",
       "    </tr>\n",
       "    <tr>\n",
       "      <th>2</th>\n",
       "      <td>2</td>\n",
       "      <td>18</td>\n",
       "    </tr>\n",
       "  </tbody>\n",
       "</table>\n",
       "</div>"
      ],
      "text/plain": [
       "Clusters       0   1\n",
       "Class Labels        \n",
       "0             12   8\n",
       "1             19   1\n",
       "2              2  18"
      ]
     },
     "execution_count": 20,
     "metadata": {},
     "output_type": "execute_result"
    }
   ],
   "source": [
    "# Create variable kmeans2 for k-means clustering with k=2\n",
    "kmeans2 = KMeans(n_clusters = 2)\n",
    "\n",
    "#Fit the k-means2 above onto the array\n",
    "kmeans2.fit(X)\n",
    "\n",
    "#Create new variable to predict the y values from the fitted kmeans2 from above\n",
    "y_kmeans2 = kmeans2.predict(X)\n",
    "\n",
    "#Create contigency table of results using crosstab of the true y values and the predicted y values\n",
    "pd.crosstab(y_true, y_kmeans2,rownames = [\"Class Labels\"], colnames = [\"Clusters\"])"
   ]
  },
  {
   "cell_type": "markdown",
   "metadata": {},
   "source": [
    "Class 0 variables were mainly in cluster 0 with some in cluster 1. Class 1 variables were mainly in cluster 0, with one in cluster 1. Class 2 variables were mainly in cluster 2, with some in cluster 0. When k=2, there were two main clusters. Cluster 0 contained majority of the variables in class 0, 1, and few from class 2 while cluster 1 had majority of the variables with class labels of 1 and 2 with some from class 0. "
   ]
  },
  {
   "cell_type": "markdown",
   "metadata": {},
   "source": [
    "### d) Now perform K-means clustering with K = 4 and describe your results."
   ]
  },
  {
   "cell_type": "code",
   "execution_count": 21,
   "metadata": {},
   "outputs": [
    {
     "data": {
      "text/html": [
       "<div>\n",
       "<style scoped>\n",
       "    .dataframe tbody tr th:only-of-type {\n",
       "        vertical-align: middle;\n",
       "    }\n",
       "\n",
       "    .dataframe tbody tr th {\n",
       "        vertical-align: top;\n",
       "    }\n",
       "\n",
       "    .dataframe thead th {\n",
       "        text-align: right;\n",
       "    }\n",
       "</style>\n",
       "<table border=\"1\" class=\"dataframe\">\n",
       "  <thead>\n",
       "    <tr style=\"text-align: right;\">\n",
       "      <th>Clusters</th>\n",
       "      <th>0</th>\n",
       "      <th>1</th>\n",
       "      <th>2</th>\n",
       "      <th>3</th>\n",
       "    </tr>\n",
       "    <tr>\n",
       "      <th>Class Labels</th>\n",
       "      <th></th>\n",
       "      <th></th>\n",
       "      <th></th>\n",
       "      <th></th>\n",
       "    </tr>\n",
       "  </thead>\n",
       "  <tbody>\n",
       "    <tr>\n",
       "      <th>0</th>\n",
       "      <td>5</td>\n",
       "      <td>0</td>\n",
       "      <td>15</td>\n",
       "      <td>0</td>\n",
       "    </tr>\n",
       "    <tr>\n",
       "      <th>1</th>\n",
       "      <td>1</td>\n",
       "      <td>18</td>\n",
       "      <td>0</td>\n",
       "      <td>1</td>\n",
       "    </tr>\n",
       "    <tr>\n",
       "      <th>2</th>\n",
       "      <td>9</td>\n",
       "      <td>1</td>\n",
       "      <td>0</td>\n",
       "      <td>10</td>\n",
       "    </tr>\n",
       "  </tbody>\n",
       "</table>\n",
       "</div>"
      ],
      "text/plain": [
       "Clusters      0   1   2   3\n",
       "Class Labels               \n",
       "0             5   0  15   0\n",
       "1             1  18   0   1\n",
       "2             9   1   0  10"
      ]
     },
     "execution_count": 21,
     "metadata": {},
     "output_type": "execute_result"
    }
   ],
   "source": [
    "# Create variable kmeans4 for k-means clustering with k=4\n",
    "kmeans4 = KMeans(n_clusters = 4)\n",
    "\n",
    "#Fit the k-means4 above onto the array\n",
    "kmeans4.fit(X)\n",
    "\n",
    "#Create new variable to predict the y values from the fitted kmeans4 from above\n",
    "y_kmeans4 = kmeans4.predict(X)\n",
    "\n",
    "#Create contigency table of results using crosstab of the true y values and the predicted y values\n",
    "pd.crosstab(y_true,y_kmeans4,rownames = [\"Class Labels\"], colnames = [\"Clusters\"])"
   ]
  },
  {
   "cell_type": "markdown",
   "metadata": {},
   "source": [
    "Class 0 variables were mainly in cluster 2, with few in cluster 0. Class 1 variables were mostly in cluster 1 with one each in cluster 0 and cluster 3. Class 2 variables had half of the variables in cluster 3 and the other half in cluster 0, with one in cluster 1."
   ]
  },
  {
   "cell_type": "markdown",
   "metadata": {},
   "source": [
    "### e) Perform K-means clustering with K = 3 on the data after scaling each variable to have standard deviation one. How do these results compare to those obtained in (b)? Explain."
   ]
  },
  {
   "cell_type": "code",
   "execution_count": 22,
   "metadata": {},
   "outputs": [],
   "source": [
    "# Create variable to assign standard scaler\n",
    "scaler = StandardScaler()\n",
    "\n",
    "#Fit the array \n",
    "scaler.fit(X)\n",
    "\n",
    "#Transform the fitted array so every variable has standard deviation of 1\n",
    "# Assign to a variable\n",
    "standard_x = scaler.transform(X)"
   ]
  },
  {
   "cell_type": "code",
   "execution_count": 23,
   "metadata": {},
   "outputs": [
    {
     "data": {
      "text/html": [
       "<div>\n",
       "<style scoped>\n",
       "    .dataframe tbody tr th:only-of-type {\n",
       "        vertical-align: middle;\n",
       "    }\n",
       "\n",
       "    .dataframe tbody tr th {\n",
       "        vertical-align: top;\n",
       "    }\n",
       "\n",
       "    .dataframe thead th {\n",
       "        text-align: right;\n",
       "    }\n",
       "</style>\n",
       "<table border=\"1\" class=\"dataframe\">\n",
       "  <thead>\n",
       "    <tr style=\"text-align: right;\">\n",
       "      <th>Clusters</th>\n",
       "      <th>0</th>\n",
       "      <th>1</th>\n",
       "      <th>2</th>\n",
       "    </tr>\n",
       "    <tr>\n",
       "      <th>Class Labels</th>\n",
       "      <th></th>\n",
       "      <th></th>\n",
       "      <th></th>\n",
       "    </tr>\n",
       "  </thead>\n",
       "  <tbody>\n",
       "    <tr>\n",
       "      <th>0</th>\n",
       "      <td>0</td>\n",
       "      <td>20</td>\n",
       "      <td>0</td>\n",
       "    </tr>\n",
       "    <tr>\n",
       "      <th>1</th>\n",
       "      <td>17</td>\n",
       "      <td>2</td>\n",
       "      <td>1</td>\n",
       "    </tr>\n",
       "    <tr>\n",
       "      <th>2</th>\n",
       "      <td>3</td>\n",
       "      <td>2</td>\n",
       "      <td>15</td>\n",
       "    </tr>\n",
       "  </tbody>\n",
       "</table>\n",
       "</div>"
      ],
      "text/plain": [
       "Clusters       0   1   2\n",
       "Class Labels            \n",
       "0              0  20   0\n",
       "1             17   2   1\n",
       "2              3   2  15"
      ]
     },
     "execution_count": 23,
     "metadata": {},
     "output_type": "execute_result"
    }
   ],
   "source": [
    "#Fit the k-means3 above onto the transformed array\n",
    "kmeans3.fit(standard_x)\n",
    "\n",
    "#Create new variable to predict the y values from the fitted kmeans3 from above\n",
    "y_kmeans3_scale = kmeans3.predict(standard_x)\n",
    "\n",
    "#Create contigency table of results using crosstab of the true y values and the predicted y values\n",
    "pd.crosstab(y_true,y_kmeans3_scale,rownames = [\"Class Labels\"], colnames = [\"Clusters\"])"
   ]
  },
  {
   "cell_type": "markdown",
   "metadata": {},
   "source": [
    "Class 0 variables were all in cluster 1. Class 1 variables were mainly in cluster 0 with some in cluster 1 and one in cluster 2. Class 2 variables were mainly in cluster 2 with a few each in cluster 0 and cluster 1. The results obtained from b were very similar to the results obtained here after standardizing the variables. Therefore, scaling the variables did not affect the k-means clustering for these variables. "
   ]
  },
  {
   "cell_type": "markdown",
   "metadata": {},
   "source": [
    "## Question 2:"
   ]
  },
  {
   "cell_type": "markdown",
   "metadata": {},
   "source": [
    "### a) Load the data – note that there is no header so you will need to read this in without one."
   ]
  },
  {
   "cell_type": "code",
   "execution_count": 24,
   "metadata": {},
   "outputs": [],
   "source": [
    "#Load the data and indicate that there is no header\n",
    "#Assign to a variable\n",
    "df = pd.read_csv(\"Ch10Ex11.csv\", header=None)"
   ]
  },
  {
   "cell_type": "code",
   "execution_count": 32,
   "metadata": {},
   "outputs": [],
   "source": [
    "#Transpose the dataframe to cluster on the genes\n",
    "df_transpose = df.T"
   ]
  },
  {
   "cell_type": "markdown",
   "metadata": {},
   "source": [
    "### b) Apply hierarchical clustering to the samples. Use all combinations of correlation and Euclidian distance with single, average and complete linkage. Plot the dendrograms. Do the genes separate the samples into the two groups? Do the results change with distance and linkage? How?"
   ]
  },
  {
   "cell_type": "code",
   "execution_count": 26,
   "metadata": {},
   "outputs": [
    {
     "data": {
      "image/png": "[encoded data removed]",
      "text/plain": [
       "<Figure size 432x288 with 1 Axes>"
      ]
     },
     "metadata": {
      "needs_background": "light"
     },
     "output_type": "display_data"
    }
   ],
   "source": [
    "#Create an dendogram using the transposed dataframe using single linkage with Euclidian distance\n",
    "shc.dendrogram(shc.linkage(df_transpose, method='single', metric = \"euclidean\"))\n",
    "\n",
    "#Title of the plot\n",
    "plt.title(\"Euclididan distance and Single Linkage\")\n",
    "\n",
    "#Show the plot\n",
    "plt.show()"
   ]
  },
  {
   "cell_type": "code",
   "execution_count": 27,
   "metadata": {},
   "outputs": [
    {
     "data": {
      "image/png": "[encoded data removed]",
      "text/plain": [
       "<Figure size 432x288 with 1 Axes>"
      ]
     },
     "metadata": {
      "needs_background": "light"
     },
     "output_type": "display_data"
    }
   ],
   "source": [
    "#Create an dendogram using the transposed dataframe using average linkage with Euclidian distance\n",
    "shc.dendrogram(shc.linkage(df_transpose, method='average', metric = \"euclidean\"))\n",
    "\n",
    "#Title of the plot\n",
    "plt.title(\"Euclididan distance and Average Linkage\")\n",
    "\n",
    "#Show the plot\n",
    "plt.show()"
   ]
  },
  {
   "cell_type": "code",
   "execution_count": 28,
   "metadata": {},
   "outputs": [
    {
     "data": {
      "image/png": "[encoded data removed]",
      "text/plain": [
       "<Figure size 432x288 with 1 Axes>"
      ]
     },
     "metadata": {
      "needs_background": "light"
     },
     "output_type": "display_data"
    }
   ],
   "source": [
    "#Create an dendogram using the transposed dataframe using complete linkage with Euclidian distance\n",
    "shc.dendrogram(shc.linkage(df_transpose, method='complete', metric = \"euclidean\"))\n",
    "\n",
    "#Title of the plot\n",
    "plt.title(\"Euclididan distance and Complete Linkage\")\n",
    "\n",
    "#Show the plot\n",
    "plt.show()"
   ]
  },
  {
   "cell_type": "code",
   "execution_count": 29,
   "metadata": {},
   "outputs": [
    {
     "data": {
      "image/png": "[encoded data removed]",
      "text/plain": [
       "<Figure size 432x288 with 1 Axes>"
      ]
     },
     "metadata": {
      "needs_background": "light"
     },
     "output_type": "display_data"
    }
   ],
   "source": [
    "#Create an dendogram using the transposed dataframe using single linkage with correlation distance\n",
    "shc.dendrogram(shc.linkage(df_transpose, method='single', metric = \"correlation\"))\n",
    "\n",
    "#Title of the plot\n",
    "plt.title(\"Correlation distance and Single Linkage\")\n",
    "\n",
    "#Show the plot\n",
    "plt.show()"
   ]
  },
  {
   "cell_type": "code",
   "execution_count": 30,
   "metadata": {},
   "outputs": [
    {
     "data": {
      "image/png": "[encoded data removed]",
      "text/plain": [
       "<Figure size 432x288 with 1 Axes>"
      ]
     },
     "metadata": {
      "needs_background": "light"
     },
     "output_type": "display_data"
    }
   ],
   "source": [
    "#Create an dendogram using the transposed dataframe using average linkage with correlation distance\n",
    "shc.dendrogram(shc.linkage(df_transpose, method='average', metric = \"correlation\"))\n",
    "\n",
    "#Title of the plot\n",
    "plt.title(\"Correlation distance and Average Linkage\")\n",
    "\n",
    "#Show the plot\n",
    "plt.show()"
   ]
  },
  {
   "cell_type": "code",
   "execution_count": 31,
   "metadata": {},
   "outputs": [
    {
     "data": {
      "image/png": "[encoded data removed]",
      "text/plain": [
       "<Figure size 432x288 with 1 Axes>"
      ]
     },
     "metadata": {
      "needs_background": "light"
     },
     "output_type": "display_data"
    }
   ],
   "source": [
    "#Create an dendogram using the transposed dataframe using complete linkage with correlation distance\n",
    "shc.dendrogram(shc.linkage(df_transpose, method='complete', metric = \"correlation\"))\n",
    "\n",
    "#Title of the plot\n",
    "plt.title(\"Correlation distance and Complete Linkage\")\n",
    "\n",
    "#Show the plot\n",
    "plt.show()"
   ]
  },
  {
   "cell_type": "markdown",
   "metadata": {},
   "source": [
    "By using the Euclididan distance, each of the different linkages (complete, average and single) split the samples into two main groups. The single linkage, complete linkage and average linkage with Euclididan distance further splits the two groups into smaller groups. However, the results change when using correlation distance. Correlation distance with complete linkage and average linkage produce three groups. Correlation distance with single linkage splits the group individually by sample, meaning there isn't two groups of the samples seen in the dendogram plot."
   ]
  }
 ],
 "metadata": {
  "kernelspec": {
   "display_name": "Python 3",
   "language": "python",
   "name": "python3"
  },
  "language_info": {
   "codemirror_mode": {
    "name": "ipython",
    "version": 3
   },
   "file_extension": ".py",
   "mimetype": "text/x-python",
   "name": "python",
   "nbconvert_exporter": "python",
   "pygments_lexer": "ipython3",
   "version": "3.8.3"
  }
 },
 "nbformat": 4,
 "nbformat_minor": 2
}
